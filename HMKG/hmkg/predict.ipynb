{
 "cells": [
  {
   "cell_type": "code",
   "execution_count": 5,
   "metadata": {},
   "outputs": [
    {
     "name": "stderr",
     "output_type": "stream",
     "text": [
      "You're trying to map triples with 4935 entities and 0 relations that are not in the training set. These triples will be excluded from the mapping.\n",
      "In total 4898 from 1616121 triples were filtered out\n",
      "You're trying to map triples with 4899 entities and 0 relations that are not in the training set. These triples will be excluded from the mapping.\n",
      "In total 4867 from 1616121 triples were filtered out\n"
     ]
    }
   ],
   "source": [
    "from pykeen.predict import predict_triples,predict_all,predict_target\n",
    "import torch\n",
    "from KGE import split_data,KGEmbedding\n",
    "\n",
    "model=torch.load(\"checkpoints/TransE.pkl\")\n",
    "\n",
    "kge=KGEmbedding(model_name=\"TransE\")\n",
    "triple_factor_data_train, triple_factor_data_val, triple_factor_data_test, triple_factor_data=kge.construct_triples(train_path=\"data/TrainingSet.txt\",\n",
    "                                                                                                                    valid_path=\"data/EvaluationSet.txt\",\n",
    "                                                                                                                    test_path=\"data/TestSet.txt\")\n",
    "\n",
    "pred = predict_target(\n",
    "    model=model,\n",
    "    head=\"hmdb_id:HMDB0000126\",\n",
    "    relation=\"has_pathway\",\n",
    "    triples_factory=triple_factor_data,\n",
    ")"
   ]
  },
  {
   "cell_type": "code",
   "execution_count": 53,
   "metadata": {},
   "outputs": [],
   "source": [
    "import json\n",
    "with open(\"data/TransE/id_to_entity.json\",\"r\") as f:\n",
    "    id_to_entity=json.load(f)\n",
    "    \n",
    "import csv\n",
    "triples=[]\n",
    "with open(\"data/triples.txt\", newline='', encoding='utf-8') as f:\n",
    "    all_triples = csv.reader(f, delimiter='\\t')\n",
    "    for line in all_triples:\n",
    "        triples.append(line)\n"
   ]
  },
  {
   "cell_type": "code",
   "execution_count": 112,
   "metadata": {},
   "outputs": [],
   "source": [
    "def find_tail(model,triple_factory,id_to_entity,triples,head=\"hmdb_id:HMDB0000126\",relation=\"has_pathway\",topk=100,tail_type=None,predict_unknown=True):\n",
    "\n",
    "    pred = predict_target(\n",
    "        model=model,\n",
    "        head=head,\n",
    "        relation=relation,\n",
    "        triples_factory=triple_factory,\n",
    "    )\n",
    "    \n",
    "    topk_tails_scores=pred.df.sort_values(\"score\").tail(topk)\n",
    "    topk_tails_scores[\"tail_id\"]=topk_tails_scores[\"tail_id\"].map(str).map(id_to_entity)\n",
    "    topk_tails=set(topk_tails_scores[\"tail_id\"].tolist())\n",
    "    \n",
    "    known=set([i[2] for i in triples if i[0]==head and i[1]==relation])\n",
    "    \n",
    "    if predict_unknown:\n",
    "        difference_set=topk_tails-known\n",
    "    else:\n",
    "        difference_set=topk_tails\n",
    "    \n",
    "    tails_scores_dict=topk_tails_scores.set_index(\"tail_id\")[\"score\"].to_dict()\n",
    "    \n",
    "    output={}\n",
    "    for i in difference_set:\n",
    "        if not tail_type or i.split(\":\")[0]==tail_type:\n",
    "            output[i]=tails_scores_dict[i]\n",
    "    \n",
    "    return sorted(output.items(), key=lambda x: x[1],reverse=True)\n",
    "    "
   ]
  },
  {
   "cell_type": "code",
   "execution_count": 122,
   "metadata": {},
   "outputs": [],
   "source": [
    "def find_head(model,triple_factory,id_to_entity,triples,tail=\"hmdb_id:HMDB0000126\",relation=\"has_pathway\",topk=100,head_type=None,predict_unknown=True):\n",
    "    \n",
    "    pred = predict_target(\n",
    "        model=model,\n",
    "        tail=tail,\n",
    "        relation=relation,\n",
    "        triples_factory=triple_factory,\n",
    "    )\n",
    "    \n",
    "    topk_heads_scores=pred.df.sort_values(\"score\").head(topk)\n",
    "    topk_heads_scores[\"head_id\"]=topk_heads_scores[\"head_id\"].map(str).map(id_to_entity)\n",
    "    topk_heads=set(topk_heads_scores[\"head_id\"].tolist())\n",
    "    \n",
    "    known=set([i[2] for i in triples if i[0]==tail and i[1]==relation])\n",
    "    \n",
    "    if predict_unknown:\n",
    "        difference_set=topk_heads-known\n",
    "    else:\n",
    "        difference_set=topk_heads\n",
    "    \n",
    "    \n",
    "    heads_scores_dict=topk_heads_scores.set_index(\"head_id\")[\"score\"].to_dict()\n",
    "    \n",
    "    output={}\n",
    "    for i in difference_set:\n",
    "        if not head_type or i.split(\":\")[0]==head_type:\n",
    "            output[i]=heads_scores_dict[i]\n",
    "    \n",
    "    return sorted(output.items(), key=lambda x: x[1],reverse=True)\n",
    "    "
   ]
  },
  {
   "cell_type": "code",
   "execution_count": 113,
   "metadata": {},
   "outputs": [
    {
     "data": {
      "text/plain": [
       "[('disease:Colorectal cancer', -5.507114410400391),\n",
       " ('disease:Ulcerative colitis', -5.536546230316162),\n",
       " ('disease:Missing teeth', -5.8547468185424805),\n",
       " ('disease:Epilepsy', -5.878190040588379),\n",
       " ('disease:Prostate cancer', -5.972429275512695),\n",
       " ('disease:Pancreatic cancer', -6.07377815246582),\n",
       " ('disease:Attachment loss', -6.0748443603515625),\n",
       " ('disease:Irritable bowel syndrome', -6.0913848876953125),\n",
       " ('disease:Meningitis', -6.113704681396484),\n",
       " ('disease:Schizophrenia', -6.125271797180176),\n",
       " ('disease:Very Long Chain Acyl-CoA Dehydrogenase Deficiency',\n",
       "  -6.228644847869873),\n",
       " (\"disease:Crohn's disease\", -6.2457685470581055),\n",
       " ('disease:Lipoyltransferase 1 Deficiency', -6.2962188720703125),\n",
       " ('disease:Hydrocephalus', -6.32382869720459),\n",
       " ('disease:Head injury', -6.383418083190918),\n",
       " ('disease:Periodontal Probing Depth', -6.408458709716797),\n",
       " ('disease:Hypermethioninemia', -6.429693222045898),\n",
       " ('disease:Canavan disease', -6.461075305938721),\n",
       " ('disease:Autosomal  dominant polycystic kidney disease', -6.467318534851074),\n",
       " ('disease:Aromatic L-amino acid decarboxylase deficiency',\n",
       "  -6.505350112915039),\n",
       " ('disease:Multiple system atrophy', -6.516237258911133),\n",
       " ('disease:Primary hypomagnesemia', -6.517328262329102),\n",
       " ('disease:Growth hormone deficiency', -6.522741317749023),\n",
       " ('disease:Nonalcoholic fatty liver disease', -6.5255279541015625),\n",
       " ('disease:Medium Chain Acyl-CoA Dehydrogenase Deficiency',\n",
       "  -6.571282386779785),\n",
       " ('disease:Clostridium difficile infection', -6.589010715484619),\n",
       " ('disease:Primary biliary cirrhosis', -6.610159873962402),\n",
       " ('disease:Pervasive developmental disorder not otherwise specified',\n",
       "  -6.635366439819336),\n",
       " (\"disease:Parkinson's disease\", -6.639681816101074),\n",
       " ('disease:Trauma', -6.649477958679199),\n",
       " ('disease:Frontotemporal dementia', -6.655653476715088),\n",
       " ('disease:Hereditary folate malabsorption', -6.657567024230957),\n",
       " ('disease:D-Glyceric acidemia', -6.6618733406066895),\n",
       " ('disease:Congenital Adrenal Hyperplasia, due to 17-Hydroxylase-Deficiency',\n",
       "  -6.66349983215332),\n",
       " ('disease:2-Ketoglutarate dehydrogenase complex deficiency',\n",
       "  -6.684630393981934),\n",
       " ('disease:Bartter Syndrome, Type 5, Antenatal, Transient',\n",
       "  -6.687602996826172),\n",
       " ('disease:Hypothyroidism', -6.70615291595459),\n",
       " ('disease:Supragingival Plaque', -6.736758232116699),\n",
       " ('disease:Tyrosinemia I', -6.750433921813965),\n",
       " ('disease:Celiac disease', -6.754306793212891),\n",
       " ('disease:Thymidine phosphorylase deficiency', -6.760576248168945),\n",
       " ('disease:Leukemia', -6.76399040222168),\n",
       " ('disease:Intrahepatic biliary hypoplasia', -6.764746189117432),\n",
       " ('disease:Metastatic melanoma', -6.767960548400879),\n",
       " ('disease:Sepiapterin reductase deficiency', -6.779960632324219),\n",
       " ('disease:Hydrogen sulfide poisoning', -6.781827926635742),\n",
       " ('disease:Ischemia', -6.789261817932129),\n",
       " ('disease:Asthma', -6.795743465423584),\n",
       " ('disease:Short-chain L-3-hydroxyacyl-CoA dehydrogenase deficiency',\n",
       "  -6.797612190246582),\n",
       " ('disease:N-acetylglutamate synthetase deficiency', -6.79818868637085),\n",
       " ('disease:Olivopontocerebral atrophy', -6.8117594718933105),\n",
       " ('disease:Temporomandibular joint disorder', -6.81217098236084),\n",
       " ('disease:Dihydropyrimidine dehydrogenase deficiency', -6.813945293426514),\n",
       " ('disease:Multiple sclerosis', -6.8234710693359375),\n",
       " ('disease:Fumarase deficiency', -6.823680400848389),\n",
       " ('disease:Hypobetalipoproteinemia', -6.824697494506836),\n",
       " ('disease:Aminoacylase I deficiency', -6.828100204467773),\n",
       " ('disease:Acute Lymphoblastic Leukemia', -6.833020210266113),\n",
       " ('disease:Cirrhosis', -6.836637496948242),\n",
       " ('disease:Lewy body disease', -6.852282524108887),\n",
       " ('disease:Alcoholism', -6.85398006439209),\n",
       " ('disease:Degenerative disc disease', -6.858981132507324),\n",
       " ('disease:Diarrhoea predominant irritable bowel syndrome',\n",
       "  -6.871356964111328),\n",
       " ('disease:Stomach cancer', -6.8844804763793945),\n",
       " ('disease:Cachexia', -6.892208576202393),\n",
       " ('disease:Hypoparathyroidism-retardation-dysmorphism syndrome',\n",
       "  -6.9017839431762695),\n",
       " ('disease:Autism', -6.903637886047363),\n",
       " ('disease:Gout', -6.904872417449951),\n",
       " ('disease:Phosphoenolpyruvate Carboxykinase Deficiency 1, Cytosolic',\n",
       "  -6.9157280921936035),\n",
       " ('disease:Pyridoxine-dependent epilepsy', -6.924985408782959),\n",
       " ('disease:Dihydrolipoamide Dehydrogenase Deficiency', -6.929713249206543),\n",
       " ('disease:21-Hydroxylase deficiency', -6.935410499572754),\n",
       " ('disease:2-Ketoadipic acidemia', -6.936161041259766),\n",
       " ('disease:Tooth Decay', -6.947546482086182),\n",
       " ('disease:Lung Cancer', -6.948375701904297)]"
      ]
     },
     "execution_count": 113,
     "metadata": {},
     "output_type": "execute_result"
    }
   ],
   "source": [
    "find_tail(model,triple_factor_data,id_to_entity,triples,head=\"hmdb_id:HMDB0000001\",relation=\"related_to_disease\",tail_type=\"disease\")"
   ]
  },
  {
   "cell_type": "code",
   "execution_count": 123,
   "metadata": {},
   "outputs": [
    {
     "data": {
      "text/plain": [
       "[('hmdb_id:HMDB0265847', -14.789738655090332),\n",
       " ('hmdb_id:HMDB0289898', -14.82168960571289),\n",
       " ('hmdb_id:HMDB0292084', -14.943880081176758)]"
      ]
     },
     "execution_count": 123,
     "metadata": {},
     "output_type": "execute_result"
    }
   ],
   "source": [
    "find_head(model,triple_factor_data,id_to_entity,triples,tail=\"hmdbp_id:HMDBP01620\",relation=\"related_to\",head_type=\"hmdb_id\")"
   ]
  },
  {
   "cell_type": "code",
   "execution_count": null,
   "metadata": {},
   "outputs": [],
   "source": []
  }
 ],
 "metadata": {
  "kernelspec": {
   "display_name": "general",
   "language": "python",
   "name": "python3"
  },
  "language_info": {
   "codemirror_mode": {
    "name": "ipython",
    "version": 3
   },
   "file_extension": ".py",
   "mimetype": "text/x-python",
   "name": "python",
   "nbconvert_exporter": "python",
   "pygments_lexer": "ipython3",
   "version": "3.8.12"
  },
  "orig_nbformat": 4,
  "vscode": {
   "interpreter": {
    "hash": "f9347bdf1e4aeead762b4b846a9a40f4f09550ccbfa2e5d0601213a49f2a5b2f"
   }
  }
 },
 "nbformat": 4,
 "nbformat_minor": 2
}
